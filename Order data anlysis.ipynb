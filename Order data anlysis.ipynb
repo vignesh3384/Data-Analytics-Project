{
 "cells": [
  {
   "cell_type": "code",
   "execution_count": null,
   "id": "82827f5d-5e02-4c2e-8d60-541c212f611c",
   "metadata": {
    "collapsed": true,
    "jupyter": {
     "outputs_hidden": true
    }
   },
   "outputs": [],
   "source": [
    "#import packages\n",
    "#!pip install kaggle\n",
    "import kaggle\n"
   ]
  },
  {
   "cell_type": "code",
   "execution_count": null,
   "id": "81682fca-abf9-4356-a4fa-f5fef6773173",
   "metadata": {
    "collapsed": true,
    "jupyter": {
     "outputs_hidden": true
    }
   },
   "outputs": [],
   "source": [
    "#download dataset\n",
    "!kaggle datasets download ankitbansal06/retail-orders -f orders.csv\n"
   ]
  },
  {
   "cell_type": "code",
   "execution_count": 9,
   "id": "f9807b37-be58-4b5b-90e6-8ef8fd1966a4",
   "metadata": {
    "collapsed": true,
    "jupyter": {
     "outputs_hidden": true
    }
   },
   "outputs": [],
   "source": [
    "import zipfile\n",
    "with zipfile.ZipFile('orders.csv.zip', 'r') as zip_ref:\n",
    "    zip_ref.extractall()"
   ]
  },
  {
   "cell_type": "code",
   "execution_count": null,
   "id": "0a7ac45d-7285-4155-aa03-fd35ed87b183",
   "metadata": {
    "collapsed": true,
    "jupyter": {
     "outputs_hidden": true
    }
   },
   "outputs": [],
   "source": [
    "#read data from the file and handle null values\n",
    "\n",
    "import pandas as pd\n",
    "df = pd.read_csv('orders.csv',na_values=['Not Available', 'unknown'])\n",
    "df['Ship Mode'].unique()"
   ]
  },
  {
   "cell_type": "code",
   "execution_count": null,
   "id": "aaffbe2c-fb9a-4d14-ad76-693689bdc364",
   "metadata": {
    "collapsed": true,
    "jupyter": {
     "outputs_hidden": true
    }
   },
   "outputs": [],
   "source": [
    "#rename column names\n",
    "#df.rename(columns = {}\n",
    "\n",
    "#df.columns = df.columns.str.lower()\n",
    "#df.columns = df.columns.str.replace(' ' , '_')\n",
    "\n",
    "df.head(5)"
   ]
  },
  {
   "cell_type": "code",
   "execution_count": null,
   "id": "af8c9564-9317-49b0-894e-b10bcee8d14c",
   "metadata": {
    "collapsed": true,
    "jupyter": {
     "outputs_hidden": true
    }
   },
   "outputs": [],
   "source": [
    "#derive new columns discount,sale_price and profits\n",
    "\n",
    "df['discount'] = df['list_price']*df['discount_percent']*.01\n",
    "df['sale_price'] = df['list_price'] - df['discount']\n",
    "df['profits'] = df['sale_price'] - df['cost_price']\n",
    "df"
   ]
  },
  {
   "cell_type": "code",
   "execution_count": null,
   "id": "420176d7-1e3a-49ff-97cc-41e93207149a",
   "metadata": {
    "collapsed": true,
    "jupyter": {
     "outputs_hidden": true
    }
   },
   "outputs": [],
   "source": [
    "#covert order date from object data type to date datetime\n",
    "\n",
    "df.orders = df['order_date'] = pd.to_datetime(df['order_date'] , format = \"%Y-%m-%d\")"
   ]
  },
  {
   "cell_type": "code",
   "execution_count": null,
   "id": "c92eec55-724b-4da4-b036-c7d3c9f9fd56",
   "metadata": {
    "collapsed": true,
    "jupyter": {
     "outputs_hidden": true
    }
   },
   "outputs": [],
   "source": [
    "#drop cost_price,list_price and discount_percent columns\n",
    "#df.dtypes\n",
    "\n",
    "df.drop(columns=['list_price','cost_price','discount_percent'],inplace = True)"
   ]
  },
  {
   "cell_type": "code",
   "execution_count": null,
   "id": "082039ed-afaf-4ae5-b3fe-b5882ffae1c1",
   "metadata": {
    "collapsed": true,
    "jupyter": {
     "outputs_hidden": true
    }
   },
   "outputs": [],
   "source": [
    "#load this data inot sql server\n",
    "import sqlalchemy as sal\n",
    "#?engine = sal.create_engine('mssql://HQAPEW1C003-BDW/LOCALDB#2442A618/master?driver=ODBC+DRIVER+17+FOR+SQL+SERVER')\n",
    "#engine = sal.create_engine('mssql://(localdb)\\mssqllocaldb/master?trusted_connection=yes')\n",
    "#engine = create_engine('mssql+pyodbc://@' + (localdb)+'\\'+ mssqllocaldb + '/' + master + '?trusted_connection=yes&driver=ODBC+Driver+18+for+SQL+Server')\n",
    "from sqlalchemy import create_engine\n",
    "\n",
    "server_name = \"(localdb)\\\\mssqllocaldb\"\n",
    "database_name = \"master\"  # Replace with your actual database name\n",
    "\n",
    "# For Windows Authentication (trusted connection) using the ODBC Driver\n",
    "engine = sal.create_engine(f\"mssql+pyodbc://{server_name}/{database_name}?trusted_connection=yes&driver=ODBC+Driver+17+for+SQL+Server\")\n",
    "conn = engine.connect\n",
    "\n",
    "df.to_sql('df_orders', con=engine, if_exists='append', index=False)\n"
   ]
  },
  {
   "cell_type": "code",
   "execution_count": 89,
   "id": "02a0b875-6993-46fd-82fb-eed714c1aad5",
   "metadata": {
    "collapsed": true,
    "jupyter": {
     "outputs_hidden": true
    }
   },
   "outputs": [],
   "source": [
    "df.columns = df.columns.str.replace('profits' , 'profit')"
   ]
  },
  {
   "cell_type": "code",
   "execution_count": null,
   "id": "c34eb01e-bcbe-490d-b877-a9f8b89f0718",
   "metadata": {
    "collapsed": true,
    "jupyter": {
     "outputs_hidden": true
    }
   },
   "outputs": [],
   "source": []
  }
 ],
 "metadata": {
  "kernelspec": {
   "display_name": "Python 3 (ipykernel)",
   "language": "python",
   "name": "python3"
  },
  "language_info": {
   "codemirror_mode": {
    "name": "ipython",
    "version": 3
   },
   "file_extension": ".py",
   "mimetype": "text/x-python",
   "name": "python",
   "nbconvert_exporter": "python",
   "pygments_lexer": "ipython3",
   "version": "3.12.1"
  }
 },
 "nbformat": 4,
 "nbformat_minor": 5
}
